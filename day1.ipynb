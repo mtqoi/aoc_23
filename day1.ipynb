{
 "cells": [
  {
   "cell_type": "markdown",
   "source": [
    "Puzzle 1"
   ],
   "metadata": {
    "collapsed": false
   },
   "id": "3ebe75ea54f4eeee"
  },
  {
   "cell_type": "code",
   "execution_count": null,
   "id": "initial_id",
   "metadata": {
    "collapsed": true
   },
   "outputs": [],
   "source": [
    "import re"
   ]
  },
  {
   "cell_type": "code",
   "execution_count": null,
   "outputs": [],
   "source": [
    "example = \"\"\"1abc2\n",
    "pqr3stu8vwx\n",
    "a1b2c3d4e5f\n",
    "treb7uchet\"\"\""
   ],
   "metadata": {
    "collapsed": false
   },
   "id": "562d46aafdea657c"
  },
  {
   "cell_type": "code",
   "execution_count": null,
   "outputs": [],
   "source": [
    "def solution(s):\n",
    "    return sum([\n",
    "    int(''.join([re.findall(r'\\d+', i)[j][j] for j in (0, -1)])) \n",
    "    for i in s.split('\\n') if i != ''\n",
    "])"
   ],
   "metadata": {
    "collapsed": false
   },
   "id": "36ac972712fb9cd8"
  },
  {
   "cell_type": "code",
   "execution_count": null,
   "outputs": [],
   "source": [
    "solution(example) # cool it matches"
   ],
   "metadata": {
    "collapsed": false
   },
   "id": "ee48eb100c55f9d8"
  },
  {
   "cell_type": "code",
   "execution_count": null,
   "outputs": [],
   "source": [
    "with open('day1_input.txt', 'r') as f:\n",
    "    input = f.read()"
   ],
   "metadata": {
    "collapsed": false
   },
   "id": "a3abb0cd73f983f7"
  },
  {
   "cell_type": "code",
   "execution_count": null,
   "outputs": [],
   "source": [
    "solution(input)"
   ],
   "metadata": {
    "collapsed": false
   },
   "id": "5de534d994060287"
  },
  {
   "cell_type": "markdown",
   "source": [
    "Puzzle 2\n",
    "\n",
    "(this one was harder and took me a while to work out the trick)"
   ],
   "metadata": {
    "collapsed": false
   },
   "id": "598dde8cc3d4ba96"
  },
  {
   "cell_type": "code",
   "execution_count": null,
   "outputs": [],
   "source": [
    "example2 = \"\"\"two1nine\n",
    "eightwothree\n",
    "abcone2threexyz\n",
    "xtwone3four\n",
    "4nineeightseven2\n",
    "zoneight234\n",
    "7pqrstsixteen\"\"\""
   ],
   "metadata": {
    "collapsed": false
   },
   "id": "5e8e0b4398299727"
  },
  {
   "cell_type": "code",
   "execution_count": null,
   "outputs": [],
   "source": [
    "conversion = {\n",
    "        'one': '1',\n",
    "        'two': '2',\n",
    "        'three': '3',\n",
    "        'four': '4',\n",
    "        'five': '5',\n",
    "        'six': '6',\n",
    "        'seven': '7',\n",
    "        'eight': '8',\n",
    "        'nine': '9'\n",
    "    }\n",
    "\n",
    "# reverse the keys\n",
    "conversion_reverse = {}\n",
    "for k, v in conversion.items():\n",
    "    conversion_reverse[k[::-1]] = v"
   ],
   "metadata": {
    "collapsed": false
   },
   "id": "3f1acf688a6a24ae"
  },
  {
   "cell_type": "code",
   "execution_count": null,
   "outputs": [],
   "source": [
    "# gonna write some functions just to keep things neat\n",
    "def get_first(s):\n",
    "    return [\n",
    "            conversion.get(i) if conversion.get(i) is not None else i for i in \n",
    "        re.findall(r'\\d+|' + r'|'.join(conversion.keys()), s)\n",
    "        ][0][0]\n",
    "\n",
    "def get_last(s):\n",
    "    return [\n",
    "            conversion_reverse.get(i) if conversion_reverse.get(i) is not None else i for i in \n",
    "        re.findall(r'\\d+|' + r'|'.join(conversion_reverse.keys()), s[::-1])\n",
    "        ][0][0]"
   ],
   "metadata": {
    "collapsed": false
   },
   "id": "4340fb37ab3c78c1"
  },
  {
   "cell_type": "code",
   "execution_count": null,
   "outputs": [],
   "source": [
    "def solution2(l):\n",
    "    return sum([\n",
    "    int(get_first(s)+get_last(s)) for s in l.split('\\n') if s != ''\n",
    "])"
   ],
   "metadata": {
    "collapsed": false
   },
   "id": "8b170b2ab93136bd"
  },
  {
   "cell_type": "code",
   "execution_count": null,
   "outputs": [],
   "source": [
    "solution2(input)"
   ],
   "metadata": {
    "collapsed": false
   },
   "id": "6186c34b116baad1"
  },
  {
   "cell_type": "code",
   "execution_count": null,
   "outputs": [],
   "source": [],
   "metadata": {
    "collapsed": false
   },
   "id": "6aa5f9db36604c7b"
  }
 ],
 "metadata": {
  "kernelspec": {
   "display_name": "Python 3",
   "language": "python",
   "name": "python3"
  },
  "language_info": {
   "codemirror_mode": {
    "name": "ipython",
    "version": 2
   },
   "file_extension": ".py",
   "mimetype": "text/x-python",
   "name": "python",
   "nbconvert_exporter": "python",
   "pygments_lexer": "ipython2",
   "version": "2.7.6"
  }
 },
 "nbformat": 4,
 "nbformat_minor": 5
}
