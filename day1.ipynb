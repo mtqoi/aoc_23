{
 "cells": [
  {
   "cell_type": "code",
   "execution_count": null,
   "id": "initial_id",
   "metadata": {
    "collapsed": true
   },
   "outputs": [],
   "source": [
    "import re"
   ]
  },
  {
   "cell_type": "code",
   "execution_count": null,
   "outputs": [],
   "source": [
    "example = \"\"\"1abc2\n",
    "pqr3stu8vwx\n",
    "a1b2c3d4e5f\n",
    "treb7uchet\"\"\""
   ],
   "metadata": {
    "collapsed": false
   },
   "id": "562d46aafdea657c"
  },
  {
   "cell_type": "code",
   "execution_count": null,
   "outputs": [],
   "source": [
    "def solution(s):\n",
    "    return sum([\n",
    "    int(''.join([re.findall(r'\\d+', i)[j][j] for j in (0, -1)])) \n",
    "    for i in s.split('\\n') if i != ''\n",
    "])"
   ],
   "metadata": {
    "collapsed": false
   },
   "id": "36ac972712fb9cd8"
  },
  {
   "cell_type": "code",
   "execution_count": null,
   "outputs": [],
   "source": [
    "solution(example) # cool it matches"
   ],
   "metadata": {
    "collapsed": false
   },
   "id": "ee48eb100c55f9d8"
  },
  {
   "cell_type": "code",
   "execution_count": null,
   "outputs": [],
   "source": [
    "with open('day1_input.txt', 'r') as f:\n",
    "    input = f.read()"
   ],
   "metadata": {
    "collapsed": false
   },
   "id": "a3abb0cd73f983f7"
  },
  {
   "cell_type": "code",
   "execution_count": null,
   "outputs": [],
   "source": [
    "solution(input)"
   ],
   "metadata": {
    "collapsed": false
   },
   "id": "5de534d994060287"
  },
  {
   "cell_type": "code",
   "execution_count": null,
   "outputs": [],
   "source": [],
   "metadata": {
    "collapsed": false
   },
   "id": "42af578d9dbfba52"
  }
 ],
 "metadata": {
  "kernelspec": {
   "display_name": "Python 3",
   "language": "python",
   "name": "python3"
  },
  "language_info": {
   "codemirror_mode": {
    "name": "ipython",
    "version": 2
   },
   "file_extension": ".py",
   "mimetype": "text/x-python",
   "name": "python",
   "nbconvert_exporter": "python",
   "pygments_lexer": "ipython2",
   "version": "2.7.6"
  }
 },
 "nbformat": 4,
 "nbformat_minor": 5
}
