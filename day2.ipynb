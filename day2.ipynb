{
 "cells": [
  {
   "cell_type": "markdown",
   "source": [
    "Puzzle 1"
   ],
   "metadata": {
    "collapsed": false
   },
   "id": "5d8d0753526a6b63"
  },
  {
   "cell_type": "code",
   "execution_count": null,
   "outputs": [],
   "source": [
    "import re"
   ],
   "metadata": {
    "collapsed": false
   },
   "id": "a6bf5b4967eabe20"
  },
  {
   "cell_type": "code",
   "execution_count": null,
   "id": "initial_id",
   "metadata": {
    "collapsed": true
   },
   "outputs": [],
   "source": [
    "example = \"\"\"Game 1: 3 blue, 4 red; 1 red, 2 green, 6 blue; 2 green\n",
    "Game 2: 1 blue, 2 green; 3 green, 4 blue, 1 red; 1 green, 1 blue\n",
    "Game 3: 8 green, 6 blue, 20 red; 5 blue, 4 red, 13 green; 5 green, 1 red\n",
    "Game 4: 1 green, 3 red, 6 blue; 3 green, 6 red; 3 green, 15 blue, 14 red\n",
    "Game 5: 6 red, 1 blue, 3 green; 2 blue, 1 red, 2 green\"\"\""
   ]
  },
  {
   "cell_type": "code",
   "execution_count": null,
   "outputs": [],
   "source": [
    "game = example.split('\\n')[0]\n",
    "game"
   ],
   "metadata": {
    "collapsed": false
   },
   "id": "8af274437ffa8d70"
  },
  {
   "cell_type": "code",
   "execution_count": null,
   "outputs": [],
   "source": [
    "def get_number_and_color(s):\n",
    "    number = int(re.findall(r'\\d+', s)[0])\n",
    "    color = re.findall(r'[a-z]+', s)[0] # more regex fun\n",
    "    return color, number"
   ],
   "metadata": {
    "collapsed": false
   },
   "id": "2691f277cbf6b49a"
  },
  {
   "cell_type": "code",
   "execution_count": null,
   "outputs": [],
   "source": [
    "def split_game(game):\n",
    "    return [s.split(',') for s in game.split(':')[1].split(';') if s != '']"
   ],
   "metadata": {
    "collapsed": false
   },
   "id": "85d3eec01cb1adb3"
  },
  {
   "cell_type": "code",
   "execution_count": null,
   "outputs": [],
   "source": [
    "def check_legal_round(round, max_blue, max_red, max_green):\n",
    "    num_blue = 0\n",
    "    num_red = 0\n",
    "    num_green = 0 \n",
    "    for d in round:\n",
    "        col, num = get_number_and_color(d)\n",
    "        if col == 'blue':\n",
    "            num_blue += num \n",
    "        elif col == 'green':\n",
    "            num_green += num\n",
    "            \n",
    "        elif col == 'red':\n",
    "            num_red += num\n",
    "            \n",
    "    # return {'blue': num_blue, 'green': num_green, 'red': num_red}\n",
    "    if num_blue > max_blue or num_red > max_red or num_green > max_green:\n",
    "        return False\n",
    "    else:\n",
    "        return True"
   ],
   "metadata": {
    "collapsed": false
   },
   "id": "5a118df9ae3fa4dc"
  },
  {
   "cell_type": "code",
   "execution_count": null,
   "outputs": [],
   "source": [
    "def check_legal_game(game, max_blue, max_green, max_red):\n",
    "    return all([check_legal_round(round, max_blue=max_blue, max_green=max_green, max_red=max_red) for round in split_game(game)])"
   ],
   "metadata": {
    "collapsed": false
   },
   "id": "b94ed9927ff63151"
  },
  {
   "cell_type": "code",
   "execution_count": null,
   "outputs": [],
   "source": [
    "MAX_BLUE = 14\n",
    "MAX_GREEN = 13\n",
    "MAX_RED = 12"
   ],
   "metadata": {
    "collapsed": false
   },
   "id": "38a641b4fad37257"
  },
  {
   "cell_type": "code",
   "execution_count": null,
   "outputs": [],
   "source": [
    "def get_game_num(game):\n",
    "    return int(re.findall(r'\\d+', game.split(':')[0])[0])"
   ],
   "metadata": {
    "collapsed": false
   },
   "id": "f6366d8087262a53"
  },
  {
   "cell_type": "code",
   "execution_count": null,
   "outputs": [],
   "source": [
    "def count_games(s):\n",
    "    all_games = [i for i in s.split('\\n') if i != '']\n",
    "    legal_games = []\n",
    "    \n",
    "    for g in all_games:\n",
    "        if check_legal_game(g, max_blue=MAX_BLUE, max_red=MAX_RED, max_green=MAX_GREEN):\n",
    "            legal_games.append(get_game_num(g))\n",
    "            \n",
    "    return sum(legal_games)"
   ],
   "metadata": {
    "collapsed": false
   },
   "id": "1718b87848204fac"
  },
  {
   "cell_type": "code",
   "execution_count": null,
   "outputs": [],
   "source": [
    "count_games(example)"
   ],
   "metadata": {
    "collapsed": false
   },
   "id": "13c8504ab2c7dcb9"
  },
  {
   "cell_type": "code",
   "execution_count": null,
   "outputs": [],
   "source": [
    "check_legal_game(game, MAX_BLUE, MAX_GREEN, MAX_RED)"
   ],
   "metadata": {
    "collapsed": false
   },
   "id": "b1a9604d07c22243"
  },
  {
   "cell_type": "code",
   "execution_count": null,
   "outputs": [],
   "source": [
    "with open('day2_input.txt', 'r') as f:\n",
    "    input = f.read()"
   ],
   "metadata": {
    "collapsed": false
   },
   "id": "ec336aef7dcdaba"
  },
  {
   "cell_type": "code",
   "execution_count": null,
   "outputs": [],
   "source": [
    "count_games(input)"
   ],
   "metadata": {
    "collapsed": false
   },
   "id": "199d15906435b8b0"
  },
  {
   "cell_type": "markdown",
   "source": [
    "Puzzle 2\n",
    "\n",
    "(Almost certainly a better way to do this but I'll just do the quick thing and repurpose some functions from puzzle 1)"
   ],
   "metadata": {
    "collapsed": false
   },
   "id": "4a6a302d9fbfc857"
  },
  {
   "cell_type": "code",
   "execution_count": null,
   "outputs": [],
   "source": [
    "def check_round_cubes(round):\n",
    "    num_blue = 0\n",
    "    num_red = 0\n",
    "    num_green = 0 \n",
    "    for d in round:\n",
    "        col, num = get_number_and_color(d)\n",
    "        if col == 'blue':\n",
    "            num_blue += num \n",
    "        elif col == 'green':\n",
    "            num_green += num\n",
    "        elif col == 'red':\n",
    "            num_red += num\n",
    "            \n",
    "    return {'blue': num_blue, 'green': num_green, 'red': num_red}"
   ],
   "metadata": {
    "collapsed": false
   },
   "id": "3f19e1198bce0004"
  },
  {
   "cell_type": "code",
   "execution_count": null,
   "outputs": [],
   "source": [
    "def get_power(game):\n",
    "    blue = []\n",
    "    red = []\n",
    "    green = []\n",
    "    for j in split_game(game):\n",
    "        _ = check_round_cubes(j)\n",
    "        blue.append(_['blue'])\n",
    "        green.append(_['green'])\n",
    "        red.append(_['red'])\n",
    "    \n",
    "    # return {'blue':max(blue), 'red':max(red), 'green':max(green)}\n",
    "    return max(blue) * max(red) * max(green)"
   ],
   "metadata": {
    "collapsed": false
   },
   "id": "6e3e34663b40f3d"
  },
  {
   "cell_type": "code",
   "execution_count": null,
   "outputs": [],
   "source": [
    "sum([get_power(g) for g in example.split('\\n') if g != ''])"
   ],
   "metadata": {
    "collapsed": false
   },
   "id": "6a27be72e2a169dd"
  },
  {
   "cell_type": "code",
   "execution_count": null,
   "outputs": [],
   "source": [
    "sum([get_power(g) for g in input.split('\\n') if g != ''])"
   ],
   "metadata": {
    "collapsed": false
   },
   "id": "f053e37c33babd6e"
  },
  {
   "cell_type": "code",
   "execution_count": null,
   "outputs": [],
   "source": [],
   "metadata": {
    "collapsed": false
   },
   "id": "6aea0d28404c1ea"
  }
 ],
 "metadata": {
  "kernelspec": {
   "display_name": "Python 3",
   "language": "python",
   "name": "python3"
  },
  "language_info": {
   "codemirror_mode": {
    "name": "ipython",
    "version": 2
   },
   "file_extension": ".py",
   "mimetype": "text/x-python",
   "name": "python",
   "nbconvert_exporter": "python",
   "pygments_lexer": "ipython2",
   "version": "2.7.6"
  }
 },
 "nbformat": 4,
 "nbformat_minor": 5
}
